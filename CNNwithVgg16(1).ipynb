{
  "nbformat": 4,
  "nbformat_minor": 0,
  "metadata": {
    "colab": {
      "name": "CNNwithVgg16.ipynb",
      "provenance": [],
      "collapsed_sections": []
    },
    "kernelspec": {
      "name": "python3",
      "display_name": "Python 3"
    },
    "accelerator": "GPU"
  },
  "cells": [
    {
      "cell_type": "code",
      "metadata": {
        "id": "l_ZBrQv-8gvM",
        "colab_type": "code",
        "colab": {}
      },
      "source": [
        "\n",
        "\n",
        "import os\n",
        "import numpy as np\n",
        "from keras.datasets import mnist\n",
        "from keras.utils.np_utils import to_categorical\n",
        "import matplotlib.pyplot as plt\n",
        "\n",
        "\n",
        "from keras.models import Sequential\n",
        "from keras.layers import Input, Dropout, Flatten, Conv2D, MaxPooling2D, Dense, Activation, Reshape\n",
        "from keras.optimizers import RMSprop\n",
        "from keras.callbacks import ModelCheckpoint, Callback, EarlyStopping\n",
        "from keras.utils import np_utils\n",
        "\n"
      ],
      "execution_count": 0,
      "outputs": []
    },
    {
      "cell_type": "code",
      "metadata": {
        "id": "ljbrwEbM-77m",
        "colab_type": "code",
        "outputId": "238109a3-85d0-4b20-9490-9da6d1073d8e",
        "colab": {
          "base_uri": "https://localhost:8080/",
          "height": 53
        }
      },
      "source": [
        "(x_train, y_train), (x_test, y_test) = mnist.load_data()\n",
        "print(\"Train Set Size = {} images\".format(y_train.shape[0]))\n",
        "print(\"Test Set Size = {} images\".format(y_test.shape[0]))"
      ],
      "execution_count": 13,
      "outputs": [
        {
          "output_type": "stream",
          "text": [
            "Train Set Size = 60000 images\n",
            "Test Set Size = 10000 images\n"
          ],
          "name": "stdout"
        }
      ]
    },
    {
      "cell_type": "code",
      "metadata": {
        "id": "pId_NjjWNMUQ",
        "colab_type": "code",
        "colab": {
          "base_uri": "https://localhost:8080/",
          "height": 452
        },
        "outputId": "f03023e9-8078-4224-dc2d-e4a9f1a8a54f"
      },
      "source": [
        "\n",
        "\n",
        "fig1 = plt.figure(figsize = (15,15))\n",
        "\n",
        "for i in range(5):\n",
        "    ax1 = fig1.add_subplot(1,5,i+1) \n",
        "    ax1.imshow(x_train[i], interpolation='none', cmap=plt.cm.gray)\n",
        "    ax2 = fig1.add_subplot(2,5,i+6) \n",
        "    ax2.imshow(x_train[i+6], interpolation='none', cmap=plt.cm.gray)\n",
        "plt.show()\n",
        "\n",
        "print(\"Labels : {}\".format(y_train[0:5]))\n",
        "print(\"Labels : {}\".format(y_train[6:11]))\n",
        "\n"
      ],
      "execution_count": 14,
      "outputs": [
        {
          "output_type": "display_data",
          "data": {
            "image/png": "[encoded data removed]",
            "text/plain": [
              "<Figure size 1080x1080 with 10 Axes>"
            ]
          },
          "metadata": {
            "tags": []
          }
        },
        {
          "output_type": "stream",
          "text": [
            "Labels : [5 0 4 1 9]\n",
            "Labels : [1 3 1 4 3]\n"
          ],
          "name": "stdout"
        }
      ]
    },
    {
      "cell_type": "code",
      "metadata": {
        "id": "-kZpTbw1O1lm",
        "colab_type": "code",
        "colab": {}
      },
      "source": [
        "y_train_onehot = to_categorical(y_train, num_classes=None, dtype='float32')"
      ],
      "execution_count": 0,
      "outputs": []
    },
    {
      "cell_type": "code",
      "metadata": {
        "id": "lqrjOid8YRRw",
        "colab_type": "code",
        "colab": {}
      },
      "source": [
        "optimizer = RMSprop(lr=1e-4)\n",
        "objective = 'binary_crossentropy'\n",
        "\n",
        "def vgg16():\n",
        "    model = Sequential()\n",
        "    model.add(Reshape((28, 28, 1)))\n",
        "    model.add(Conv2D(64, (3, 3), padding='same', input_shape=((28, 28, 1)), activation='relu'))\n",
        "    model.add(Conv2D(64, (3, 3), padding='same', activation='relu'))\n",
        "    model.add(MaxPooling2D(data_format=\"channels_last\", pool_size=(2, 2)))\n",
        "\n",
        "    model.add(Conv2D(128, (3, 3), padding='same', activation='relu'))\n",
        "    model.add(Conv2D(128, (3, 3), padding='same', activation='relu'))\n",
        "    model.add(MaxPooling2D(data_format=\"channels_last\", pool_size=(2, 2)))\n",
        "    \n",
        "    model.add(Conv2D(256, (3, 3), padding='same', activation='relu'))\n",
        "    model.add(Conv2D(256, (3, 3), padding='same', activation='relu'))\n",
        "    model.add(Conv2D(256, (3, 3), padding='same', activation='relu'))\n",
        "    model.add(MaxPooling2D(data_format=\"channels_last\", pool_size=(2, 2)))\n",
        "    \n",
        "    model.add(Conv2D(512, (3, 3), padding='same', activation='relu'))\n",
        "    model.add(Conv2D(512, (3, 3), padding='same', activation='relu'))\n",
        "    model.add(Conv2D(512, (3, 3), padding='same', activation='relu'))\n",
        "    model.add(MaxPooling2D(data_format=\"channels_last\", pool_size=(2, 2)))\n",
        "\n",
        "    model.add(Conv2D(512, (3, 3), padding='same', activation='relu'))\n",
        "    model.add(Conv2D(512, (3, 3), padding='same', activation='relu'))\n",
        "    model.add(Conv2D(512, (3, 3), padding='same', activation='relu'))\n",
        "    #model.add(MaxPooling2D(data_format=\"channels_last\", pool_size=(2, 2)))\n",
        "\n",
        "    model.add(Flatten())\n",
        "    model.add(Dense(256, activation='relu'))\n",
        "    model.add(Dropout(0.5))\n",
        "    \n",
        "    model.add(Dense(256, activation='relu'))\n",
        "    model.add(Dropout(0.5))\n",
        "\n",
        "    model.add(Dense(10))\n",
        "    model.add(Activation('softmax'))\n",
        "\n",
        "    model.compile(loss=objective, optimizer=optimizer, metrics=['accuracy'])\n",
        "    return model\n",
        "\n",
        "\n",
        "model = vgg16()"
      ],
      "execution_count": 0,
      "outputs": []
    },
    {
      "cell_type": "code",
      "metadata": {
        "id": "3UYKOcvee-Uy",
        "colab_type": "code",
        "colab": {}
      },
      "source": [
        "nb_epoch = 100\n",
        "batch_size = 128\n",
        "\n",
        "## Callback for loss logging per epoch\n",
        "class LossHistory(Callback):\n",
        "    def on_train_begin(self, logs={}):\n",
        "        self.losses = []\n",
        "        self.val_losses = []\n",
        "        self.acc = []\n",
        "        self.val_acc = []\n",
        "        \n",
        "    def on_epoch_end(self, batch, logs={}):\n",
        "        self.losses.append(logs.get('loss'))\n",
        "        self.val_losses.append(logs.get('val_loss'))\n",
        "        self.acc.append(logs.get('acc'))\n",
        "        self.val_acc.append(logs.get('val_acc'))\n",
        "\n",
        "early_stopping = EarlyStopping(monitor='val_loss', patience=100, verbose=1, mode='auto')\n",
        "\n",
        "def run_vgg16():\n",
        "    \n",
        "    history = LossHistory()\n",
        "    model.fit(x_train, y_train_onehot, batch_size=batch_size, epochs=nb_epoch,\n",
        "              validation_split=0.25, verbose=1, shuffle=True, callbacks=[history, early_stopping])\n",
        "    \n",
        "\n",
        "    predictions = model.predict(x_test, verbose=0)\n",
        "    return predictions, history\n",
        "\n",
        "def test_accuracy():\n",
        "    err = []\n",
        "    t = 0\n",
        "    for i in range(predictions.shape[0]):\n",
        "        if (np.argmax(predictions[i]) == y_test[i]):\n",
        "            t = t+1\n",
        "        else:\n",
        "            err.append(i)\n",
        "    return t, float(t)*100/predictions.shape[0], err"
      ],
      "execution_count": 0,
      "outputs": []
    },
    {
      "cell_type": "code",
      "metadata": {
        "id": "quna8bB2xjQ-",
        "colab_type": "code",
        "colab": {
          "base_uri": "https://localhost:8080/",
          "height": 464
        },
        "outputId": "bc9d6291-981b-4d14-e69f-1b270f0053a9"
      },
      "source": [
        "%%time\n",
        "predictions, history = run_vgg16()\n",
        "p = test_accuracy()\n",
        "print(\"Test accuracy: {} %\".format(p[1]))"
      ],
      "execution_count": 0,
      "outputs": [
        {
          "output_type": "stream",
          "text": [
            "Train on 45000 samples, validate on 15000 samples\n",
            "Epoch 1/100\n",
            "45000/45000 [==============================] - 13s 297us/step - loss: 0.0053 - acc: 0.9993 - val_loss: 0.0365 - val_acc: 0.9972\n",
            "Epoch 2/100\n",
            "45000/45000 [==============================] - 13s 294us/step - loss: 0.0077 - acc: 0.9994 - val_loss: 0.0358 - val_acc: 0.9976\n",
            "Epoch 3/100\n",
            "45000/45000 [==============================] - 13s 296us/step - loss: 0.0161 - acc: 0.9988 - val_loss: 0.0246 - val_acc: 0.9981\n",
            "Epoch 4/100\n",
            "45000/45000 [==============================] - 13s 296us/step - loss: 0.0068 - acc: 0.9992 - val_loss: 0.0356 - val_acc: 0.9977\n",
            "Epoch 5/100\n",
            "45000/45000 [==============================] - 13s 294us/step - loss: 0.0098 - acc: 0.9992 - val_loss: 0.0445 - val_acc: 0.9970\n",
            "Epoch 6/100\n",
            "45000/45000 [==============================] - 13s 296us/step - loss: 0.0176 - acc: 0.9988 - val_loss: 0.0255 - val_acc: 0.9979\n",
            "Epoch 7/100\n",
            "45000/45000 [==============================] - 13s 298us/step - loss: 0.0103 - acc: 0.9992 - val_loss: 0.0527 - val_acc: 0.9967\n",
            "Epoch 8/100\n",
            "45000/45000 [==============================] - 13s 295us/step - loss: 0.0521 - acc: 0.9967 - val_loss: 0.0433 - val_acc: 0.9972\n",
            "Epoch 9/100\n",
            "45000/45000 [==============================] - 13s 295us/step - loss: 0.0216 - acc: 0.9985 - val_loss: 0.0316 - val_acc: 0.9980\n",
            "Epoch 10/100\n",
            "45000/45000 [==============================] - 13s 296us/step - loss: 0.0127 - acc: 0.9989 - val_loss: 0.0445 - val_acc: 0.9957\n",
            "Epoch 11/100\n",
            "45000/45000 [==============================] - 13s 295us/step - loss: 0.0180 - acc: 0.9988 - val_loss: 0.0616 - val_acc: 0.9961\n",
            "Epoch 12/100\n",
            " 9344/45000 [=====>........................] - ETA: 9s - loss: 0.0333 - acc: 0.9979"
          ],
          "name": "stdout"
        }
      ]
    }
  ]
}